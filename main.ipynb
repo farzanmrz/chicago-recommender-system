{
 "cells": [
  {
   "cell_type": "code",
   "execution_count": 1,
   "metadata": {},
   "outputs": [
    {
     "name": "stdout",
     "output_type": "stream",
     "text": [
      "Requirement already satisfied: pandas in c:\\users\\hp\\appdata\\local\\programs\\python\\python312\\lib\\site-packages (2.2.3)\n",
      "Requirement already satisfied: numpy in c:\\users\\hp\\appdata\\local\\programs\\python\\python312\\lib\\site-packages (2.2.3)\n",
      "Requirement already satisfied: scikit-learn in c:\\users\\hp\\appdata\\local\\programs\\python\\python312\\lib\\site-packages (1.6.1)\n",
      "Requirement already satisfied: python-dateutil>=2.8.2 in c:\\users\\hp\\appdata\\roaming\\python\\python312\\site-packages (from pandas) (2.9.0.post0)\n",
      "Requirement already satisfied: pytz>=2020.1 in c:\\users\\hp\\appdata\\local\\programs\\python\\python312\\lib\\site-packages (from pandas) (2025.1)\n",
      "Requirement already satisfied: tzdata>=2022.7 in c:\\users\\hp\\appdata\\local\\programs\\python\\python312\\lib\\site-packages (from pandas) (2025.1)\n",
      "Requirement already satisfied: scipy>=1.6.0 in c:\\users\\hp\\appdata\\local\\programs\\python\\python312\\lib\\site-packages (from scikit-learn) (1.15.2)\n",
      "Requirement already satisfied: joblib>=1.2.0 in c:\\users\\hp\\appdata\\local\\programs\\python\\python312\\lib\\site-packages (from scikit-learn) (1.4.2)\n",
      "Requirement already satisfied: threadpoolctl>=3.1.0 in c:\\users\\hp\\appdata\\local\\programs\\python\\python312\\lib\\site-packages (from scikit-learn) (3.5.0)\n",
      "Requirement already satisfied: six>=1.5 in c:\\users\\hp\\appdata\\roaming\\python\\python312\\site-packages (from python-dateutil>=2.8.2->pandas) (1.17.0)\n",
      "Note: you may need to restart the kernel to use updated packages.\n"
     ]
    },
    {
     "name": "stderr",
     "output_type": "stream",
     "text": [
      "\n",
      "[notice] A new release of pip is available: 23.2.1 -> 25.0.1\n",
      "[notice] To update, run: python.exe -m pip install --upgrade pip\n"
     ]
    }
   ],
   "source": [
    "%pip install pandas numpy scikit-learn"
   ]
  },
  {
   "cell_type": "code",
   "execution_count": 2,
   "metadata": {},
   "outputs": [],
   "source": [
    "import pandas as pd\n",
    "import numpy as np\n",
    "from sklearn.feature_extraction.text import TfidfVectorizer\n",
    "from sklearn.metrics.pairwise import cosine_similarity"
   ]
  },
  {
   "cell_type": "code",
   "execution_count": 3,
   "metadata": {},
   "outputs": [],
   "source": [
    "# Read the chicago.txt file\n",
    "df = pd.read_csv('chicago.txt', sep='\\t', header=None,\n",
    "                 names=['Restaurant_ID', 'Restaurant_Name', 'Features'])"
   ]
  },
  {
   "cell_type": "code",
   "execution_count": 4,
   "metadata": {},
   "outputs": [
    {
     "name": "stdout",
     "output_type": "stream",
     "text": [
      "\n",
      "First 5 Restaurants in Chicago Dataset:\n",
      "   Restaurant_ID           Restaurant_Name  \\\n",
      "0              0                Moti Mahal   \n",
      "1              1                   Village   \n",
      "2              2  Millrose Brewing Company   \n",
      "3              3             Dover Straits   \n",
      "4              4       Eat Your Hearts Out   \n",
      "\n",
      "                                            Features  \n",
      "0                214 035 149 021 117 075 204 051 163  \n",
      "1  026 249 174 004 132 249 198 191 192 125 075 20...  \n",
      "2  137 249 194 215 213 174 249 191 192 008 075 20...  \n",
      "3                137 190 174 249 212 075 205 053 165  \n",
      "4    214 249 249 197 111 025 025 112 075 205 053 164  \n"
     ]
    }
   ],
   "source": [
    "# Display the first 5 rows\n",
    "print(\"\\nFirst 5 Restaurants in Chicago Dataset:\")\n",
    "print(df.head())"
   ]
  },
  {
   "cell_type": "code",
   "execution_count": 5,
   "metadata": {},
   "outputs": [],
   "source": [
    "# Convert features to binary vectors\n",
    "def create_feature_matrix(features_str):\n",
    "    # Split features and create a set of unique features\n",
    "    all_features = set()\n",
    "    for features in features_str:\n",
    "        all_features.update(features.split())\n",
    "\n",
    "    # Create a mapping of feature to index\n",
    "    feature_to_idx = {feature: idx for idx, feature in enumerate(all_features)}\n",
    "\n",
    "    # Create binary matrix\n",
    "    n_restaurants = len(features_str)\n",
    "    n_features = len(all_features)\n",
    "    feature_matrix = np.zeros((n_restaurants, n_features), dtype=int)\n",
    "\n",
    "    # Fill the matrix\n",
    "    for i, features in enumerate(features_str):\n",
    "        for feature in features.split():\n",
    "            feature_matrix[i, feature_to_idx[feature]] = 1\n",
    "\n",
    "    return feature_matrix, feature_to_idx"
   ]
  },
  {
   "cell_type": "code",
   "execution_count": 6,
   "metadata": {},
   "outputs": [],
   "source": [
    "# Create feature matrix\n",
    "feature_matrix, feature_to_idx = create_feature_matrix(df['Features'])"
   ]
  },
  {
   "cell_type": "code",
   "execution_count": 7,
   "metadata": {},
   "outputs": [],
   "source": [
    "# Compute cosine similarity\n",
    "cosine_sim = cosine_similarity(feature_matrix)"
   ]
  },
  {
   "cell_type": "code",
   "execution_count": 8,
   "metadata": {},
   "outputs": [],
   "source": [
    "# Compute Jaccard similarity\n",
    "def jaccard_similarity(matrix):\n",
    "    intersection = np.dot(matrix, matrix.T)\n",
    "    row_sums = matrix.sum(axis=1)\n",
    "    outer_sum = np.outer(row_sums, row_sums)\n",
    "    union = outer_sum - intersection\n",
    "    return intersection / (union + 1e-10)  # Add small epsilon to avoid division by zero\n",
    "\n",
    "jaccard_sim = jaccard_similarity(feature_matrix)"
   ]
  },
  {
   "cell_type": "code",
   "execution_count": 9,
   "metadata": {},
   "outputs": [],
   "source": [
    "# Function to get top recommendations\n",
    "def get_top_recommendations(similarity_matrix, df, restaurant_idx, n=10):\n",
    "    # Get similarity scores for the restaurant\n",
    "    sim_scores = similarity_matrix[restaurant_idx]\n",
    "\n",
    "    # Get indices of top similar restaurants (excluding self)\n",
    "    top_indices = np.argsort(sim_scores)[::-1][1:n+1]\n",
    "\n",
    "    # Get restaurant names and similarity scores\n",
    "    recommendations = []\n",
    "    for idx in top_indices:\n",
    "        recommendations.append({\n",
    "            'Restaurant': df.iloc[idx]['Restaurant_Name'],\n",
    "            'Similarity': sim_scores[idx]\n",
    "        })\n",
    "\n",
    "    return recommendations"
   ]
  },
  {
   "cell_type": "code",
   "execution_count": 10,
   "metadata": {},
   "outputs": [],
   "source": [
    "def get_recommendations_by_id(restaurant_id):\n",
    "    # Find the index of the restaurant in the dataframe\n",
    "    restaurant_idx = df[df['Restaurant_ID'] == restaurant_id].index[0]\n",
    "    restaurant_name = df.iloc[restaurant_idx]['Restaurant_Name']\n",
    "\n",
    "    print(f\"\\nTop 10 Recommendations for {restaurant_name} (ID: {restaurant_id}) using Cosine Similarity:\")\n",
    "    cosine_recs = get_top_recommendations(cosine_sim, df, restaurant_idx)\n",
    "    for i, rec in enumerate(cosine_recs, 1):\n",
    "        print(f\"{i}. {rec['Restaurant']} (Similarity: {rec['Similarity']:.4f})\")\n",
    "\n",
    "    print(f\"\\nTop 10 Recommendations for {restaurant_name} (ID: {restaurant_id}) using Jaccard Similarity:\")\n",
    "    jaccard_recs = get_top_recommendations(jaccard_sim, df, restaurant_idx)\n",
    "    for i, rec in enumerate(jaccard_recs, 1):\n",
    "        print(f\"{i}. {rec['Restaurant']} (Similarity: {rec['Similarity']:.4f})\")"
   ]
  },
  {
   "cell_type": "code",
   "execution_count": 11,
   "metadata": {},
   "outputs": [
    {
     "name": "stdout",
     "output_type": "stream",
     "text": [
      "\n",
      "Top 10 Recommendations for Morton's of Chicago (ID: 10) using Cosine Similarity:\n",
      "1. Palm (Similarity: 0.7591)\n",
      "2. Lawry's the Prime Rib (Similarity: 0.7161)\n",
      "3. Rupert's for Steaks (Similarity: 0.7006)\n",
      "4. Rosebud on Rush (Similarity: 0.6888)\n",
      "5. Sage's (Similarity: 0.6708)\n",
      "6. MAGGIANO'S LITTLE ITALY (Similarity: 0.6455)\n",
      "7. GIBSONS BAR & STEAKHOUSE (Similarity: 0.6351)\n",
      "8. Nick's Fishmarket (Similarity: 0.6262)\n",
      "9. Ruth's Chris Steak House (Similarity: 0.6228)\n",
      "10. GORDON (Similarity: 0.6055)\n",
      "\n",
      "Top 10 Recommendations for Morton's of Chicago (ID: 10) using Jaccard Similarity:\n",
      "1. Rupert's for Steaks (Similarity: 0.0577)\n",
      "2. Palm (Similarity: 0.0553)\n",
      "3. Lawry's the Prime Rib (Similarity: 0.0541)\n",
      "4. Sage's (Similarity: 0.0526)\n",
      "5. Ruth's Chris Steak House (Similarity: 0.0510)\n",
      "6. Outback Steakhouse (Similarity: 0.0490)\n",
      "7. Joe-n-Giuseppe (Similarity: 0.0490)\n",
      "8. Shaw's Deerfield (Similarity: 0.0465)\n",
      "9. Kampai (Similarity: 0.0465)\n",
      "10. Rosebud on Rush (Similarity: 0.0451)\n"
     ]
    }
   ],
   "source": [
    "restaurant_id = 10  # Example restaurant ID\n",
    "get_recommendations_by_id(restaurant_id)"
   ]
  },
  {
   "cell_type": "code",
   "execution_count": null,
   "metadata": {},
   "outputs": [],
   "source": []
  }
 ],
 "metadata": {
  "kernelspec": {
   "display_name": "Python 3",
   "language": "python",
   "name": "python3"
  },
  "language_info": {
   "codemirror_mode": {
    "name": "ipython",
    "version": 3
   },
   "file_extension": ".py",
   "mimetype": "text/x-python",
   "name": "python",
   "nbconvert_exporter": "python",
   "pygments_lexer": "ipython3",
   "version": "3.12.0"
  }
 },
 "nbformat": 4,
 "nbformat_minor": 2
}
